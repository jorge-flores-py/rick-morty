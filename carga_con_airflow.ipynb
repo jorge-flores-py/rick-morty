{
 "cells": [
  {
   "attachments": {},
   "cell_type": "markdown",
   "metadata": {},
   "source": [
    "<div align=\"center\">\n",
    "  \n",
    "  <img src=\"https://media.licdn.com/dms/image/C4E12AQFol46eeOw7tw/article-cover_image-shrink_720_1280/0/1609364911502?e=1689811200&v=beta&t=6x8l58F3vsx1j1lAFdCN675Bn5cxBSo5JbjrFFue3i4\" alt=\"Apache Airflow\" width=\"100\">\n",
    "  <h1>Apache Airflow</h1>\n",
    "</div>\n",
    "\n",
    "---\n",
    "\n",
    "carga automatica usando apache airflow\n"
   ]
  },
  {
   "attachments": {},
   "cell_type": "markdown",
   "metadata": {},
   "source": [
    "<h4 align=\"center\">DAGS utilizados en el flujo <a href=\"airflow_dags.png\" target=\"_blank\">Documentacion</a>.</h4>"
   ]
  }
 ],
 "metadata": {
  "language_info": {
   "name": "python"
  },
  "orig_nbformat": 4
 },
 "nbformat": 4,
 "nbformat_minor": 2
}
